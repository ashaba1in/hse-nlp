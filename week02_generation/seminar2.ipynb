{
 "cells": [
  {
   "cell_type": "markdown",
   "metadata": {},
   "source": [
    "## Seminar 2. Text generation\n",
    "\n",
    "\n",
    "#### Agenda\n",
    "\n",
    "1. Tokenization\n",
    "2. RNN\n",
    "3. Generation quality metrics"
   ]
  },
  {
   "cell_type": "code",
   "execution_count": 1,
   "metadata": {},
   "outputs": [],
   "source": [
    "%load_ext autoreload\n",
    "%autoreload 2"
   ]
  },
  {
   "cell_type": "code",
   "execution_count": 2,
   "metadata": {},
   "outputs": [
    {
     "name": "stderr",
     "output_type": "stream",
     "text": [
      "/home/echimbulatov/miniconda3/envs/cosmos/lib/python3.11/site-packages/tqdm/auto.py:21: TqdmWarning: IProgress not found. Please update jupyter and ipywidgets. See https://ipywidgets.readthedocs.io/en/stable/user_install.html\n",
      "  from .autonotebook import tqdm as notebook_tqdm\n"
     ]
    },
    {
     "data": {
      "text/plain": [
       "device(type='cuda')"
      ]
     },
     "execution_count": 2,
     "metadata": {},
     "output_type": "execute_result"
    }
   ],
   "source": [
    "import re\n",
    "import pandas as pd\n",
    "import numpy as np\n",
    "import torch\n",
    "from tokenizers import Tokenizer, models, trainers\n",
    "from tokenizers.normalizers import Lowercase\n",
    "from tokenizers.pre_tokenizers import Whitespace\n",
    "from tokenizers.processors import TemplateProcessing\n",
    "from tokenizers.decoders import WordPiece as WordPieceDecoder\n",
    "import matplotlib.pyplot as plt\n",
    "from tqdm.auto import tqdm\n",
    "from functools import partial\n",
    "from collections import Counter\n",
    "\n",
    "\n",
    "device = torch.device('cuda' if torch.cuda.is_available() else 'cpu')\n",
    "device"
   ]
  },
  {
   "cell_type": "markdown",
   "metadata": {},
   "source": [
    "### Tokenization\n",
    "\n",
    "Tokenization is the process of breaking text into substrings (tokens). Tokenization is primarily used to reduce the size of the vocabulary. During tokenization, we want all tokens to be as representative as possible. Thus, we balance vocabulary size with token representativeness."
   ]
  },
  {
   "cell_type": "code",
   "execution_count": 3,
   "metadata": {},
   "outputs": [],
   "source": [
    "from tokenizers import Tokenizer, models\n",
    "\n",
    "tokenizer = Tokenizer(models.BPE())"
   ]
  },
  {
   "cell_type": "markdown",
   "metadata": {},
   "source": [
    "Tokenization includes several components:\n",
    "\n",
    "1. **Normalization** - preliminary text cleaning (converting to lowercase, replacing Unicode characters with ASCII, etc.)"
   ]
  },
  {
   "cell_type": "code",
   "execution_count": 4,
   "metadata": {},
   "outputs": [
    {
     "data": {
      "text/plain": [
       "'hello how are u?'"
      ]
     },
     "execution_count": 4,
     "metadata": {},
     "output_type": "execute_result"
    }
   ],
   "source": [
    "from tokenizers import normalizers\n",
    "from tokenizers.normalizers import NFD, StripAccents, Lowercase, Strip\n",
    "\n",
    "normalizer = normalizers.Sequence([NFD(), StripAccents(), Lowercase(), Strip()])\n",
    "normalizer.normalize_str(\" Héllò hôw are ü?\")"
   ]
  },
  {
   "cell_type": "code",
   "execution_count": 5,
   "metadata": {},
   "outputs": [],
   "source": [
    "tokenizer.normalizer = normalizer"
   ]
  },
  {
   "cell_type": "markdown",
   "metadata": {},
   "source": [
    "2. **Pre-tokenization** is the process of breaking text into smaller fragments that set an upper bound on what the tokens will be in the tokenization. Typically, pre-tokenization breaks the text into words. The resulting tokens will then be parts of these words."
   ]
  },
  {
   "cell_type": "code",
   "execution_count": 6,
   "metadata": {},
   "outputs": [
    {
     "data": {
      "text/plain": [
       "[('Hello', (0, 5)),\n",
       " ('!', (5, 6)),\n",
       " ('How', (7, 10)),\n",
       " ('are', (11, 14)),\n",
       " ('you', (15, 18)),\n",
       " ('?', (18, 19)),\n",
       " ('I', (20, 21)),\n",
       " (\"'\", (21, 22)),\n",
       " ('m', (22, 23)),\n",
       " ('fine', (24, 28)),\n",
       " (',', (28, 29)),\n",
       " ('thank', (30, 35)),\n",
       " ('you', (36, 39)),\n",
       " ('.', (39, 40))]"
      ]
     },
     "execution_count": 6,
     "metadata": {},
     "output_type": "execute_result"
    }
   ],
   "source": [
    "from tokenizers.pre_tokenizers import Whitespace\n",
    "\n",
    "pre_tokenizer = Whitespace()\n",
    "pre_tokenizer.pre_tokenize_str(\"Hello! How are you? I'm fine, thank you.\")"
   ]
  },
  {
   "cell_type": "markdown",
   "metadata": {},
   "source": [
    "Note that the string \"I'm\" is split into [\"I\", \"'\", \"m\"]. This may not be a good thing, given that \"'m\" is the same as \"am\". For a more \"correct\" split, you can use rule-based pre-tokenization. The most popular tools for this are `spaCy` and `Moses`."
   ]
  },
  {
   "cell_type": "code",
   "execution_count": 7,
   "metadata": {},
   "outputs": [],
   "source": [
    "tokenizer.pre_tokenizer = pre_tokenizer"
   ]
  },
  {
   "cell_type": "markdown",
   "metadata": {},
   "source": [
    "3. **Model** is the main part of tokenization. The model must be trained on a text corpus to obtain a dictionary suitable for specific data. It is applied to the result of pre-tokenization. And its task is to break \"words\" into smaller components according to the learned rules.\n",
    "\n",
    "The most common types of models are `BPE`, `WordPiece`, `Unigram`."
   ]
  },
  {
   "cell_type": "markdown",
   "metadata": {},
   "source": [
    "#### Byte-Pair Encoding (BPE)\n",
    "\n",
    "__Training Algorithm:__\n",
    "\n",
    "1. Count the number of occurrences of each word in the corpus.\n",
    "2. Create a dictionary of tokens, which currently consists of all unique characters.\n",
    "3. Find the pair of tokens that appear together most often. Concatenate them into a token and add it to the dictionary.\n",
    "4. Repeat step 3 until the dictionary reaches the desired size.\n",
    "\n",
    "\n",
    "__Example:__\n",
    "\n",
    "Corpus of words with occurrences: (`(\"hug\", 2)`, `(\"pug\", 1)`, `(\"pun\", 4)`, `(\"bun\", 3)`, `(\"hugs\", 1)`)   \n",
    "Maximum vocabulary size – __9__.\n",
    "\n",
    "__Step 1.__    \n",
    "Vocabulary: [`\"b\"`, `\"g\"`, `\"h\"`, `\"n\"`, `\"p\"`, `\"s\"`, `\"u\"`], size: __7__.   \n",
    "Corpus: [`(\"h\" \"u\" \"g\", 3)`, `(\"p\" \"u\" \"g\", 1)`, `(\"p\" \"u\" \"n\", 3)`, `(\"b\" \"u\" \"n\", 3)`, `(\"h\" \"u\" \"g\" \"s\", 1)`]\n",
    "\n",
    "The most common pair is (`\"u\" \"n\"`) – 6 times. We add it to the vocabulary and update the corpus.\n",
    "\n",
    "__Step 2.__    \n",
    "Vocabulary: [`\"b\"`, `\"g\"`, `\"h\"`, `\"n\"`, `\"p\"`, `\"s\"`, `\"u\"`, `\"un\"`], size: __8__.   \n",
    "Corpus: [`(\"h\" \"u\" \"g\", 3)`, `(\"p\" \"u\" \"g\", 1)`, `(\"p\" \"un\", 3)`, `(\"b\" \"un\", 3)`, `(\"h\" \"u\" \"g\" \"s\", 1)`]\n",
    "\n",
    "The most common pair is (`\"u\" \"g\"`) – 5 times. We add it to the vocabulary and update the corpus.\n",
    "\n",
    "__Step 3.__    \n",
    "Vocabulary: [`\"b\"`, `\"g\"`, `\"h\"`, `\"n\"`, `\"p\"`, `\"s\"`, `\"u\"`, `\"un\"`, `\"ug\"`], size: __9__.    \n",
    "Corpus: [`(\"h\" \"ug\", 3)`, `(\"p\" \"ug\", 1)`, `(\"p\" \"un\", 3)`, `(\"b\" \"un\", 3)`, `(\"h\" \"ug\" \"s\", 1)`]\n",
    "\n",
    "\n",
    "__Tokenization Process:__\n",
    "\n",
    "1. Normalization\n",
    "1. Pre-tokenization\n",
    "1. Splitting words into individual characters\n",
    "1. Applying merging rules (in the order they appear in the dictionary) to the split words"
   ]
  },
  {
   "cell_type": "markdown",
   "metadata": {},
   "source": [
    "#### Byte-level BPE\n",
    "\n",
    "If you're training a very large model on the entire internet, you might encounter a situation where the test set contains tokens that aren't in the dictionary (for example, emojis). In this case, you'll have to change the tokens to UNK, losing this information.\n",
    "\n",
    "GPT-2 and RoBERTa tokenizers (which are quite similar) have a clever way to solve this problem: they treat words as bytes rather than Unicode characters. This way, the base dictionary is small (256), but all the characters you can think of are still included and won't be converted into an unknown token. This trick is called byte-level BPE."
   ]
  },
  {
   "cell_type": "markdown",
   "metadata": {},
   "source": [
    "#### WordPiece\n",
    "\n",
    "WordPiece works exactly like BPE, with the exception of selecting tokens for merging. BPE doesn't consider the frequency of each token individually. WordPiece corrects this by introducing a score that evaluates the necessity of merging two tokens.\n",
    "\n",
    "$$\n",
    "\\operatorname{score}=\\frac{\\operatorname{freq of pair}}{\\operatorname{freq of first element}\\times \\operatorname{freq of second element}}\n",
    "$$"
   ]
  },
  {
   "cell_type": "code",
   "execution_count": 8,
   "metadata": {},
   "outputs": [
    {
     "name": "stdout",
     "output_type": "stream",
     "text": [
      "\n",
      "\n",
      "\n"
     ]
    }
   ],
   "source": [
    "from tokenizers import trainers\n",
    "\n",
    "texts = [\n",
    "    \"An infinite number of mathematicians walk into a bar.\",\n",
    "    \"The first one orders one beer. The second one - half a pint, the third one - a quarter.\",\n",
    "    \"– Hey, hey, hey, stop! Here are two pints for everyone, and leave me alone!\"\n",
    "]\n",
    "\n",
    "trainer = trainers.BpeTrainer(\n",
    "    vocab_size=128, min_frequency=1,\n",
    "    special_tokens=['[BOS]', '[EOS]'],\n",
    "    continuing_subword_prefix='##',  # add special prefix to allow detokenization\n",
    ")\n",
    "tokenizer.train_from_iterator(texts, trainer)"
   ]
  },
  {
   "cell_type": "code",
   "execution_count": 9,
   "metadata": {},
   "outputs": [
    {
     "name": "stdout",
     "output_type": "stream",
     "text": [
      "Tokens: ['an', 'infi', '##ni', '##te', 'numb', '##er', 'of', 'mathem', '##atic', '##ian', '##s', 'wal', '##k', 'into', 'a', 'bar', '.']\n",
      "Ids: [58, 119, 96, 92, 123, 50, 81, 122, 108, 99, 43, 87, 48, 120, 6, 69, 5]\n"
     ]
    }
   ],
   "source": [
    "tokenized = tokenizer.encode(\"An infinite number of mathematicians walk into a bar.\")\n",
    "print('Tokens:', tokenized.tokens)\n",
    "print('Ids:', tokenized.ids)"
   ]
  },
  {
   "cell_type": "markdown",
   "metadata": {},
   "source": [
    "4. __Post-processing__ is the final step of tokenization. It's necessary to modify the tokenized text in any way, for example, to add beginning and end tokens to the sequence."
   ]
  },
  {
   "cell_type": "code",
   "execution_count": 10,
   "metadata": {},
   "outputs": [],
   "source": [
    "from tokenizers.processors import TemplateProcessing\n",
    "\n",
    "post_processor = TemplateProcessing(\n",
    "    single=\"[BOS] $A [EOS]\",\n",
    "    special_tokens=[(\"[BOS]\", 1), (\"[EOS]\", 2)],\n",
    ")"
   ]
  },
  {
   "cell_type": "code",
   "execution_count": 11,
   "metadata": {},
   "outputs": [
    {
     "name": "stdout",
     "output_type": "stream",
     "text": [
      "Tokens: ['[BOS]', 'an', 'infi', '##ni', '##te', 'numb', '##er', 'of', 'mathem', '##atic', '##ian', '##s', 'wal', '##k', 'into', 'a', 'bar', '.', '[EOS]']\n",
      "Ids: [1, 58, 119, 96, 92, 123, 50, 81, 122, 108, 99, 43, 87, 48, 120, 6, 69, 5, 2]\n"
     ]
    }
   ],
   "source": [
    "processed = post_processor.process(tokenized)\n",
    "print('Tokens:', processed.tokens)\n",
    "print('Ids:', processed.ids)"
   ]
  },
  {
   "cell_type": "code",
   "execution_count": 12,
   "metadata": {},
   "outputs": [],
   "source": [
    "tokenizer.decoder = WordPieceDecoder(prefix='##', cleanup=True)"
   ]
  },
  {
   "cell_type": "code",
   "execution_count": 13,
   "metadata": {},
   "outputs": [
    {
     "data": {
      "text/plain": [
       "'an infinite number of mathematicians walk into a bar.'"
      ]
     },
     "execution_count": 13,
     "metadata": {},
     "output_type": "execute_result"
    }
   ],
   "source": [
    "tokenizer.decode(tokenized.ids)"
   ]
  },
  {
   "cell_type": "markdown",
   "metadata": {},
   "source": [
    "### Data processing"
   ]
  },
  {
   "cell_type": "code",
   "execution_count": 14,
   "metadata": {},
   "outputs": [
    {
     "name": "stderr",
     "output_type": "stream",
     "text": [
      "/home/echimbulatov/miniconda3/envs/cosmos/lib/python3.11/site-packages/requests/__init__.py:86: RequestsDependencyWarning: Unable to find acceptable character detection dependency (chardet or charset_normalizer).\n",
      "  warnings.warn(\n"
     ]
    }
   ],
   "source": [
    "from datasets import load_from_disk\n",
    "\n",
    "dataset = load_from_disk('/home/amshabalin/data/rocstories')\n",
    "dataset[\"train\"] = dataset[\"train\"][:5000]"
   ]
  },
  {
   "cell_type": "code",
   "execution_count": 15,
   "metadata": {},
   "outputs": [],
   "source": [
    "train_texts = np.array(dataset['train']['target'])\n",
    "test_texts = np.array(dataset['test']['target'])"
   ]
  },
  {
   "cell_type": "code",
   "execution_count": 16,
   "metadata": {},
   "outputs": [],
   "source": [
    "def print_texts(texts):\n",
    "    for t in texts:\n",
    "        print(t, end='\\n\\n')"
   ]
  },
  {
   "cell_type": "code",
   "execution_count": 17,
   "metadata": {},
   "outputs": [
    {
     "name": "stdout",
     "output_type": "stream",
     "text": [
      "Kelly was at home, trying to sleep. Suddenly, she heard footsteps in her kitchen. She grabbed a gun and stood at the top of the stairs. She warned whoever it was that she was armed. She heard them run out of the house and then called police.\n",
      "\n",
      "I bought a 1969 Mercury Montego with a loose front seat. The seat was loose because the car's floor had rusted through. I removed the seat and repaired the floor with pieces of sheet metal. My repair held the seat firmly in place after I reinstalled it. The car then successfully passed the safety inspection.\n",
      "\n"
     ]
    }
   ],
   "source": [
    "idxs = [5, 9]\n",
    "print_texts(train_texts[idxs])"
   ]
  },
  {
   "cell_type": "code",
   "execution_count": 18,
   "metadata": {},
   "outputs": [],
   "source": [
    "from my_tokenizers import *"
   ]
  },
  {
   "cell_type": "code",
   "execution_count": 19,
   "metadata": {},
   "outputs": [
    {
     "name": "stdout",
     "output_type": "stream",
     "text": [
      "Tokenized\n",
      "['[BOS]', 'k', 'e', 'l', 'l', 'y', ' ', 'w', 'a', 's', ' ', 'a', 't', ' ', 'h', 'o', 'm', 'e', ',', ' ', 't', 'r', 'y', 'i', 'n', 'g', ' ', 't', 'o', ' ', 's', 'l', 'e', 'e', 'p', '.', ' ', 's', 'u', 'd', 'd', 'e', 'n', 'l', 'y', ',', ' ', 's', 'h', 'e', ' ', 'h', 'e', 'a', 'r', 'd', ' ', 'f', 'o', 'o', 't', 's', 't', 'e', 'p', 's', ' ', 'i', 'n', ' ', 'h', 'e', 'r', ' ', 'k', 'i', 't', 'c', 'h', 'e', 'n', '.', ' ', 's', 'h', 'e', ' ', 'g', 'r', 'a', 'b', 'b', 'e', 'd', ' ', 'a', ' ', 'g', 'u', 'n', ' ', 'a', 'n', 'd', ' ', 's', 't', 'o', 'o', 'd', ' ', 'a', 't', ' ', 't', 'h', 'e', ' ', 't', 'o', 'p', ' ', 'o', 'f', ' ', 't', 'h', 'e', ' ', 's', 't', 'a', 'i', 'r', 's', '.', ' ', 's', 'h', 'e', ' ', 'w', 'a', 'r', 'n', 'e', 'd', ' ', 'w', 'h', 'o', 'e', 'v', 'e', 'r', ' ', 'i', 't', ' ', 'w', 'a', 's', ' ', 't', 'h', 'a', 't', ' ', 's', 'h', 'e', ' ', 'w', 'a', 's', ' ', 'a', 'r', 'm', 'e', 'd', '.', ' ', 's', 'h', 'e', ' ', 'h', 'e', 'a', 'r', 'd', ' ', 't', 'h', 'e', 'm', ' ', 'r', 'u', 'n', ' ', 'o', 'u', 't', ' ', 'o', 'f', ' ', 't', 'h', 'e', ' ', 'h', 'o', 'u', 's', 'e', ' ', 'a', 'n', 'd', ' ', 't', 'h', 'e', 'n', ' ', 'c', 'a', 'l', 'l', 'e', 'd', ' ', 'p', 'o', 'l', 'i', 'c', 'e', '.', '[EOS]']\n",
      "\n",
      "['[BOS]', 'i', ' ', 'b', 'o', 'u', 'g', 'h', 't', ' ', 'a', ' ', '1', '9', '6', '9', ' ', 'm', 'e', 'r', 'c', 'u', 'r', 'y', ' ', 'm', 'o', 'n', 't', 'e', 'g', 'o', ' ', 'w', 'i', 't', 'h', ' ', 'a', ' ', 'l', 'o', 'o', 's', 'e', ' ', 'f', 'r', 'o', 'n', 't', ' ', 's', 'e', 'a', 't', '.', ' ', 't', 'h', 'e', ' ', 's', 'e', 'a', 't', ' ', 'w', 'a', 's', ' ', 'l', 'o', 'o', 's', 'e', ' ', 'b', 'e', 'c', 'a', 'u', 's', 'e', ' ', 't', 'h', 'e', ' ', 'c', 'a', 'r', \"'\", 's', ' ', 'f', 'l', 'o', 'o', 'r', ' ', 'h', 'a', 'd', ' ', 'r', 'u', 's', 't', 'e', 'd', ' ', 't', 'h', 'r', 'o', 'u', 'g', 'h', '.', ' ', 'i', ' ', 'r', 'e', 'm', 'o', 'v', 'e', 'd', ' ', 't', 'h', 'e', ' ', 's', 'e', 'a', 't', ' ', 'a', 'n', 'd', ' ', 'r', 'e', 'p', 'a', 'i', 'r', 'e', 'd', ' ', 't', 'h', 'e', ' ', 'f', 'l', 'o', 'o', 'r', ' ', 'w', 'i', 't', 'h', ' ', 'p', 'i', 'e', 'c', 'e', 's', ' ', 'o', 'f', ' ', 's', 'h', 'e', 'e', 't', ' ', 'm', 'e', 't', 'a', 'l', '.', ' ', 'm', 'y', ' ', 'r', 'e', 'p', 'a', 'i', 'r', ' ', 'h', 'e', 'l', 'd', ' ', 't', 'h', 'e', ' ', 's', 'e', 'a', 't', ' ', 'f', 'i', 'r', 'm', 'l', 'y', ' ', 'i', 'n', ' ', 'p', 'l', 'a', 'c', 'e', ' ', 'a', 'f', 't', 'e', 'r', ' ', 'i', ' ', 'r', 'e', 'i', 'n', 's', 't', 'a', 'l', 'l', 'e', 'd', ' ', 'i', 't', '.', ' ', 't', 'h', 'e', ' ', 'c', 'a', 'r', ' ', 't', 'h', 'e', 'n', ' ', 's', 'u', 'c', 'c', 'e', 's', 's', 'f', 'u', 'l', 'l', 'y', ' ', 'p', 'a', 's', 's', 'e', 'd', ' ', 't', 'h', 'e', ' ', 's', 'a', 'f', 'e', 't', 'y', ' ', 'i', 'n', 's', 'p', 'e', 'c', 't', 'i', 'o', 'n', '.', '[EOS]']\n",
      "\n",
      "Detokenized\n",
      "kelly was at home, trying to sleep. suddenly, she heard footsteps in her kitchen. she grabbed a gun and stood at the top of the stairs. she warned whoever it was that she was armed. she heard them run out of the house and then called police.\n",
      "\n",
      "i bought a 1969 mercury montego with a loose front seat. the seat was loose because the car's floor had rusted through. i removed the seat and repaired the floor with pieces of sheet metal. my repair held the seat firmly in place after i reinstalled it. the car then successfully passed the safety inspection.\n",
      "\n",
      "Vocab size: 82\n"
     ]
    }
   ],
   "source": [
    "tok = CharacterTokenizer(train_texts)\n",
    "\n",
    "tokenized = tok.encode(train_texts[idxs])\n",
    "print('Tokenized')\n",
    "print_texts(tokenized['tokens'])\n",
    "print('Detokenized')\n",
    "print_texts(tok.decode(tokenized['input_ids']))\n",
    "\n",
    "print(f'Vocab size: {len(tok.token2id)}')"
   ]
  },
  {
   "cell_type": "code",
   "execution_count": 20,
   "metadata": {},
   "outputs": [
    {
     "data": {
      "image/png": "[encoded data removed]",
      "text/plain": [
       "<Figure size 400x200 with 1 Axes>"
      ]
     },
     "metadata": {},
     "output_type": "display_data"
    }
   ],
   "source": [
    "tokenized_lengths = [len(t) for t in tok.encode(test_texts)['tokens']]\n",
    "plt.figure(figsize=(4, 2))\n",
    "plt.hist(tokenized_lengths, bins=50)\n",
    "plt.title('Character tokenizer sequence lengths')\n",
    "plt.show()"
   ]
  },
  {
   "cell_type": "code",
   "execution_count": 21,
   "metadata": {},
   "outputs": [
    {
     "name": "stdout",
     "output_type": "stream",
     "text": [
      "Tokenized\n",
      "['[BOS]', 'kelly', 'was', 'at', 'home', ',', 'trying', 'to', 'sleep', '.', 'suddenly', ',', 'she', 'heard', 'footsteps', 'in', 'her', 'kitchen', '.', 'she', 'grabbed', 'a', 'gun', 'and', 'stood', 'at', 'the', 'top', 'of', 'the', 'stairs', '.', 'she', 'warned', 'whoever', 'it', 'was', 'that', 'she', 'was', 'armed', '.', 'she', 'heard', 'them', 'run', 'out', 'of', 'the', 'house', 'and', 'then', 'called', 'police', '.', '[EOS]']\n",
      "\n",
      "['[BOS]', 'i', 'bought', 'a', '1969', 'mercury', 'montego', 'with', 'a', 'loose', 'front', 'seat', '.', 'the', 'seat', 'was', 'loose', 'because', 'the', 'car', \"'\", 's', 'floor', 'had', 'rusted', 'through', '.', 'i', 'removed', 'the', 'seat', 'and', 'repaired', 'the', 'floor', 'with', 'pieces', 'of', 'sheet', 'metal', '.', 'my', 'repair', 'held', 'the', 'seat', 'firmly', 'in', 'place', 'after', 'i', 'reinstalled', 'it', '.', 'the', 'car', 'then', 'successfully', 'passed', 'the', 'safety', 'inspection', '.', '[EOS]']\n",
      "\n",
      "Detokenized\n",
      "kelly was at home , trying to sleep . suddenly , she heard footsteps in her kitchen . she grabbed a gun and stood at the top of the stairs . she warned whoever it was that she was armed . she heard them run out of the house and then called police .\n",
      "\n",
      "i bought a 1969 mercury montego with a loose front seat . the seat was loose because the car ' s floor had rusted through . i removed the seat and repaired the floor with pieces of sheet metal . my repair held the seat firmly in place after i reinstalled it . the car then successfully passed the safety inspection .\n",
      "\n",
      "Vocab size: 11141\n"
     ]
    }
   ],
   "source": [
    "tok = WordTokenizer(train_texts)\n",
    "\n",
    "tokenized = tok.encode(train_texts[idxs])\n",
    "print('Tokenized')\n",
    "print_texts(tokenized['tokens'])\n",
    "print('Detokenized')\n",
    "print_texts(tok.decode(tokenized['input_ids']))\n",
    "\n",
    "print(f'Vocab size: {len(tok.token2id)}')"
   ]
  },
  {
   "cell_type": "code",
   "execution_count": 22,
   "metadata": {},
   "outputs": [
    {
     "data": {
      "image/png": "[encoded data removed]",
      "text/plain": [
       "<Figure size 400x200 with 1 Axes>"
      ]
     },
     "metadata": {},
     "output_type": "display_data"
    }
   ],
   "source": [
    "tokenized_lengths = [len(t) for t in tok.encode(test_texts)['tokens']]\n",
    "plt.figure(figsize=(4, 2))\n",
    "plt.hist(tokenized_lengths, bins=50)\n",
    "plt.title('Word tokenizer sequence lengths')\n",
    "plt.show()"
   ]
  },
  {
   "cell_type": "code",
   "execution_count": 23,
   "metadata": {},
   "outputs": [
    {
     "name": "stdout",
     "output_type": "stream",
     "text": [
      "\n",
      "\n",
      "\n",
      "Tokenized\n",
      "['[BOS]', 'kelly', 'was', 'at', 'home', ',', 'trying', 'to', 'sleep', '.', 'suddenly', ',', 'she', 'heard', 'foot', '##st', '##ep', '##s', 'in', 'her', 'kitchen', '.', 'she', 'grabbed', 'a', 'gun', 'and', 'stood', 'at', 'the', 'top', 'of', 'the', 'stairs', '.', 'she', 'warned', 'who', '##ever', 'it', 'was', 'that', 'she', 'was', 'ar', '##med', '.', 'she', 'heard', 'them', 'run', 'out', 'of', 'the', 'house', 'and', 'then', 'called', 'police', '.', '[EOS]']\n",
      "\n",
      "['[BOS]', 'i', 'bought', 'a', '19', '##6', '##9', 'm', '##erc', '##ury', 'mo', '##nt', '##e', '##g', '##o', 'with', 'a', 'loose', 'front', 'seat', '.', 'the', 'seat', 'was', 'loose', 'because', 'the', 'car', \"'\", 's', 'floor', 'had', 'r', '##usted', 'through', '.', 'i', 'removed', 'the', 'seat', 'and', 'repair', '##ed', 'the', 'floor', 'with', 'pieces', 'of', 'she', '##et', 'metal', '.', 'my', 'repair', 'held', 'the', 'seat', 'fir', '##m', '##ly', 'in', 'place', 'after', 'i', 're', '##in', '##st', '##all', '##ed', 'it', '.', 'the', 'car', 'then', 'successfully', 'passed', 'the', 'sa', '##fet', '##y', 'insp', '##ection', '.', '[EOS]']\n",
      "\n",
      "Detokenized\n",
      "kelly was at home, trying to sleep. suddenly, she heard footsteps in her kitchen. she grabbed a gun and stood at the top of the stairs. she warned whoever it was that she was armed. she heard them run out of the house and then called police.\n",
      "\n",
      "i bought a 1969 mercury montego with a loose front seat. the seat was loose because the car ' s floor had rusted through. i removed the seat and repaired the floor with pieces of sheet metal. my repair held the seat firmly in place after i reinstalled it. the car then successfully passed the safety inspection.\n",
      "\n",
      "Vocab size: 4096\n"
     ]
    }
   ],
   "source": [
    "tok = BPETokenizer(train_texts, vocab_size=4096)\n",
    "\n",
    "tokenized = tok.encode(train_texts[idxs])\n",
    "print('Tokenized')\n",
    "print_texts(tokenized['tokens'])\n",
    "\n",
    "print('Detokenized')\n",
    "print_texts(tok.decode(tokenized['input_ids']))\n",
    "\n",
    "print(f'Vocab size: {len(tok.token2id)}')"
   ]
  },
  {
   "cell_type": "code",
   "execution_count": 24,
   "metadata": {},
   "outputs": [
    {
     "data": {
      "image/png": "[encoded data removed]",
      "text/plain": [
       "<Figure size 400x200 with 1 Axes>"
      ]
     },
     "metadata": {},
     "output_type": "display_data"
    }
   ],
   "source": [
    "tokenized_lengths = [len(t) for t in tok.encode(train_texts)['tokens']]\n",
    "plt.figure(figsize=(4, 2))\n",
    "plt.hist(tokenized_lengths, bins=50)\n",
    "plt.title('BPE 1024 tokenizer sequence lengths')\n",
    "plt.show()"
   ]
  },
  {
   "cell_type": "markdown",
   "metadata": {},
   "source": [
    "### RNN training"
   ]
  },
  {
   "cell_type": "code",
   "execution_count": 25,
   "metadata": {},
   "outputs": [],
   "source": [
    "import torch\n",
    "import torch.nn as nn\n",
    "from typing import Optional\n",
    "\n",
    "\n",
    "class RNN(nn.Module):\n",
    "    def __init__(self, vocab_size, hidden_size):\n",
    "        super().__init__()\n",
    "        self.hidden_size = hidden_size\n",
    "\n",
    "        self.embeddings = nn.Embedding(vocab_size, hidden_size)\n",
    "\n",
    "        self.W = nn.Linear(hidden_size + hidden_size, hidden_size)\n",
    "        self.O = nn.Linear(hidden_size, vocab_size)\n",
    "\n",
    "    def forward(self, input_ids, h0: Optional[torch.Tensor] = None):\n",
    "        batch_size, seq_len = input_ids.shape\n",
    "        x = self.embeddings(input_ids)\n",
    "\n",
    "        if h0 is None:\n",
    "            h_t = torch.zeros(batch_size, self.hidden_size, device=x.device)\n",
    "        else:\n",
    "            h_t = h0\n",
    "\n",
    "        outputs = []\n",
    "        for t in range(seq_len):\n",
    "            x_t = x[:, t, :]\n",
    "\n",
    "            h_t = torch.tanh(\n",
    "                self.W(torch.cat((x_t, h_t), dim=-1))\n",
    "            )\n",
    "\n",
    "            o_t = self.O(h_t)\n",
    "            outputs.append(o_t)\n",
    "\n",
    "        outputs = torch.stack(outputs, dim=1)\n",
    "\n",
    "        return outputs, h_t"
   ]
  },
  {
   "cell_type": "code",
   "execution_count": 26,
   "metadata": {},
   "outputs": [],
   "source": [
    "def train(model, dataloader, optimizer, loss_fn):\n",
    "    model.train()\n",
    "\n",
    "    accuracies = []\n",
    "    for input_ids in dataloader:\n",
    "        input_ids = input_ids.to(device)\n",
    "\n",
    "        logits, _ = model(input_ids)\n",
    "        \n",
    "        shift_ids = input_ids[:, 1:]\n",
    "        shift_logits = logits[:, :-1]\n",
    "        loss = loss_fn(shift_logits.permute(0, 2, 1), shift_ids)\n",
    "\n",
    "        optimizer.zero_grad()\n",
    "        loss.backward()\n",
    "        optimizer.step()\n",
    "\n",
    "        accuracy = (shift_logits.argmax(-1) == shift_ids).float().mean().item()\n",
    "        accuracies.append(accuracy)\n",
    "    \n",
    "    return np.mean(accuracies)\n",
    "\n",
    "\n",
    "@torch.no_grad()\n",
    "def evaluate(model, dataloader, loss_fn):\n",
    "    model.eval()\n",
    "\n",
    "    accuracies = []\n",
    "    losses = []\n",
    "    for input_ids in dataloader:\n",
    "        input_ids = input_ids.to(device)\n",
    "\n",
    "        logits, _ = model(input_ids)\n",
    "        \n",
    "        shift_ids = input_ids[:, 1:]\n",
    "        shift_logits = logits[:, :-1]\n",
    "        loss = loss_fn(shift_logits.permute(0, 2, 1), shift_ids)\n",
    "\n",
    "        accuracies.append((shift_logits.argmax(-1) == shift_ids).float().mean().item())\n",
    "        losses.append(loss.item())\n",
    "\n",
    "    loss = np.mean(losses)\n",
    "    accuracy = np.mean(accuracies)\n",
    "\n",
    "    return accuracy, loss"
   ]
  },
  {
   "cell_type": "code",
   "execution_count": 27,
   "metadata": {},
   "outputs": [],
   "source": [
    "from torch.distributions.categorical import Categorical\n",
    "\n",
    "\n",
    "@torch.inference_mode()\n",
    "def generate(tokenizer, model, batch_size=4, max_length=40):\n",
    "    input_ids = torch.empty(size=(batch_size, 1), device=device).fill_(tokenizer.bos_token_id).int()\n",
    "    h_t = torch.zeros(batch_size, model.hidden_size, device=device)\n",
    "    gen_ids = []\n",
    "    for i in range(max_length):\n",
    "        logits, h_t = model(input_ids, h_t)\n",
    "        input_ids = Categorical(logits=logits).sample()\n",
    "        gen_ids.append(input_ids)\n",
    "    \n",
    "    return torch.cat(gen_ids, dim=1)"
   ]
  },
  {
   "cell_type": "markdown",
   "metadata": {
    "tags": []
   },
   "source": [
    "## Let's train models on different tokenizers"
   ]
  },
  {
   "cell_type": "code",
   "execution_count": 28,
   "metadata": {},
   "outputs": [],
   "source": [
    "from torch.nn.utils.rnn import pad_sequence\n",
    "from torch.utils.data import DataLoader\n",
    "\n",
    "\n",
    "def train_rnn_model(tokenizer):    \n",
    "    def collate_fn(batch, max_length=None):\n",
    "        tokens = tokenizer.encode(batch, max_length=max_length)['input_ids']\n",
    "        return pad_sequence(tokens, padding_value=tokenizer.pad_token_id, batch_first=True)\n",
    "    max_length = 150\n",
    "    collate = partial(collate_fn, max_length=max_length)\n",
    "    train_loader = DataLoader(train_texts, collate_fn=collate, shuffle=True, batch_size=256)\n",
    "    test_loader = DataLoader(test_texts, collate_fn=collate, shuffle=False, batch_size=256)\n",
    "    model = RNN(vocab_size=len(tokenizer), hidden_size=512).to(device)\n",
    "\n",
    "    print('Number of parameters:', sum(p.numel() for p in model.parameters()))\n",
    "\n",
    "    optimizer = torch.optim.Adam(model.parameters(), lr=4e-4, weight_decay=1e-3)\n",
    "    loss_fn = nn.CrossEntropyLoss(ignore_index=tokenizer.pad_token_id)\n",
    "    \n",
    "    for epoch in tqdm(range(20)):\n",
    "        train_accuracy = train(model, train_loader, optimizer, loss_fn)\n",
    "        test_accuracy, test_loss = evaluate(model, test_loader, loss_fn)\n",
    "        if epoch % 5 == 0:\n",
    "            print(train_accuracy, test_accuracy, test_loss)\n",
    "    \n",
    "    _, test_loss = evaluate(model, test_loader, loss_fn)\n",
    "    \n",
    "    return model, test_loss"
   ]
  },
  {
   "cell_type": "code",
   "execution_count": 29,
   "metadata": {},
   "outputs": [
    {
     "name": "stdout",
     "output_type": "stream",
     "text": [
      "\n",
      "\n",
      "\n",
      "Number of parameters: 4723200\n"
     ]
    },
    {
     "name": "stderr",
     "output_type": "stream",
     "text": [
      "  5%|▌         | 1/20 [00:04<01:18,  4.12s/it]"
     ]
    },
    {
     "name": "stdout",
     "output_type": "stream",
     "text": [
      "0.05761686963851389 0.07558483742177487 6.160120987892151\n"
     ]
    },
    {
     "name": "stderr",
     "output_type": "stream",
     "text": [
      " 30%|███       | 6/20 [00:22<00:51,  3.71s/it]"
     ]
    },
    {
     "name": "stdout",
     "output_type": "stream",
     "text": [
      "0.11558546870946884 0.11518476940691472 5.2606532096862795\n"
     ]
    },
    {
     "name": "stderr",
     "output_type": "stream",
     "text": [
      " 55%|█████▌    | 11/20 [00:40<00:33,  3.69s/it]"
     ]
    },
    {
     "name": "stdout",
     "output_type": "stream",
     "text": [
      "0.1248983919620514 0.12248268499970436 5.065859866142273\n"
     ]
    },
    {
     "name": "stderr",
     "output_type": "stream",
     "text": [
      " 80%|████████  | 16/20 [00:59<00:14,  3.68s/it]"
     ]
    },
    {
     "name": "stdout",
     "output_type": "stream",
     "text": [
      "0.13106198459863663 0.12670493684709072 4.956925714015961\n"
     ]
    },
    {
     "name": "stderr",
     "output_type": "stream",
     "text": [
      "100%|██████████| 20/20 [01:13<00:00,  3.70s/it]\n"
     ]
    }
   ],
   "source": [
    "bpe_tokenizer = BPETokenizer(corpus=train_texts, vocab_size=4096)\n",
    "bpe_rnn, bpe_test_loss = train_rnn_model(bpe_tokenizer)\n",
    "torch.save(bpe_rnn.state_dict(), 'checkpoints/bpe_rnn.pt')"
   ]
  },
  {
   "cell_type": "code",
   "execution_count": 30,
   "metadata": {},
   "outputs": [
    {
     "name": "stdout",
     "output_type": "stream",
     "text": [
      "Number of parameters: 4723200\n"
     ]
    },
    {
     "name": "stderr",
     "output_type": "stream",
     "text": [
      "  5%|▌         | 1/20 [00:03<01:01,  3.22s/it]"
     ]
    },
    {
     "name": "stdout",
     "output_type": "stream",
     "text": [
      "0.0742159198365698 0.1041804663836956 5.520843744277954\n"
     ]
    },
    {
     "name": "stderr",
     "output_type": "stream",
     "text": [
      " 30%|███       | 6/20 [00:19<00:45,  3.22s/it]"
     ]
    },
    {
     "name": "stdout",
     "output_type": "stream",
     "text": [
      "0.14468048140406609 0.1473691951483488 4.59027373790741\n"
     ]
    },
    {
     "name": "stderr",
     "output_type": "stream",
     "text": [
      " 55%|█████▌    | 11/20 [00:35<00:28,  3.22s/it]"
     ]
    },
    {
     "name": "stdout",
     "output_type": "stream",
     "text": [
      "0.15467707738280295 0.15559826269745827 4.412833058834076\n"
     ]
    },
    {
     "name": "stderr",
     "output_type": "stream",
     "text": [
      " 80%|████████  | 16/20 [00:51<00:12,  3.22s/it]"
     ]
    },
    {
     "name": "stdout",
     "output_type": "stream",
     "text": [
      "0.1624450169503689 0.16117852926254272 4.328227865695953\n"
     ]
    },
    {
     "name": "stderr",
     "output_type": "stream",
     "text": [
      "100%|██████████| 20/20 [01:04<00:00,  3.22s/it]\n"
     ]
    }
   ],
   "source": [
    "word_tokenizer = WordTokenizer(corpus=train_texts, vocab_size=4096)\n",
    "word_rnn, word_test_loss = train_rnn_model(word_tokenizer)\n",
    "torch.save(bpe_rnn.state_dict(), 'checkpoints/word_rnn.pt')"
   ]
  },
  {
   "cell_type": "code",
   "execution_count": 31,
   "metadata": {},
   "outputs": [
    {
     "name": "stdout",
     "output_type": "stream",
     "text": [
      "Number of parameters: 608850\n"
     ]
    },
    {
     "name": "stderr",
     "output_type": "stream",
     "text": [
      "  5%|▌         | 1/20 [00:03<00:57,  3.04s/it]"
     ]
    },
    {
     "name": "stdout",
     "output_type": "stream",
     "text": [
      "0.27662071837112306 0.32306850627064704 2.3889542520046234\n"
     ]
    },
    {
     "name": "stderr",
     "output_type": "stream",
     "text": [
      " 30%|███       | 6/20 [00:18<00:42,  3.01s/it]"
     ]
    },
    {
     "name": "stdout",
     "output_type": "stream",
     "text": [
      "0.4120487689971924 0.4215001069009304 1.9297221899032593\n"
     ]
    },
    {
     "name": "stderr",
     "output_type": "stream",
     "text": [
      " 55%|█████▌    | 11/20 [00:33<00:27,  3.01s/it]"
     ]
    },
    {
     "name": "stdout",
     "output_type": "stream",
     "text": [
      "0.4659665122628212 0.468839792907238 1.7640975922346116\n"
     ]
    },
    {
     "name": "stderr",
     "output_type": "stream",
     "text": [
      " 80%|████████  | 16/20 [00:48<00:12,  3.01s/it]"
     ]
    },
    {
     "name": "stdout",
     "output_type": "stream",
     "text": [
      "0.49858393222093583 0.5012813329696655 1.6595043033361434\n"
     ]
    },
    {
     "name": "stderr",
     "output_type": "stream",
     "text": [
      "100%|██████████| 20/20 [01:00<00:00,  3.01s/it]\n"
     ]
    }
   ],
   "source": [
    "char_tokenizer = CharacterTokenizer(corpus=train_texts)\n",
    "char_rnn, char_test_loss = train_rnn_model(char_tokenizer)\n",
    "torch.save(bpe_rnn.state_dict(), 'checkpoints/char_rnn.pt')"
   ]
  },
  {
   "cell_type": "code",
   "execution_count": 32,
   "metadata": {},
   "outputs": [],
   "source": [
    "bpe_outputs = generate(bpe_tokenizer, bpe_rnn, batch_size=5000)\n",
    "word_outputs = generate(word_tokenizer, word_rnn, batch_size=5000)\n",
    "char_outputs = generate(char_tokenizer, char_rnn, batch_size=5000)"
   ]
  },
  {
   "cell_type": "markdown",
   "metadata": {},
   "source": [
    "# Metrics\n",
    "\n",
    "## Validation perplexity\n",
    "NLL:\n",
    "$$\n",
    "\\text{NLL} = -\\frac{1}{N} \\sum_{i=1}^{N} \\log P(x_i \\mid x_{<i})\n",
    "$$\n",
    "\n",
    "Perplexity:\n",
    "$$\n",
    "\\text{PPL} = \\exp \\left( \\text{NLL} \\right)\n",
    "= \\exp \\left( -\\frac{1}{N} \\sum_{i=1}^{N} \\log P(x_i \\mid x_{<i}) \\right)\n",
    "$$\n",
    "\n",
    "It would seem like the ideal metric for measuring quality. A good model should give high probability to real texts."
   ]
  },
  {
   "cell_type": "code",
   "execution_count": 33,
   "metadata": {},
   "outputs": [
    {
     "name": "stdout",
     "output_type": "stream",
     "text": [
      "BPE model Val. PPL 133.97045401309768\n",
      "WordPiece model Val. PPL 72.32429163280698\n",
      "Character model Val. PPL 4.956432029092183\n"
     ]
    }
   ],
   "source": [
    "print(\"BPE model Val. PPL\", np.exp(bpe_test_loss.item()))\n",
    "print(\"WordPiece model Val. PPL\", np.exp(word_test_loss.item()))\n",
    "print(\"Character model Val. PPL\", np.exp(char_test_loss.item()))"
   ]
  },
  {
   "cell_type": "markdown",
   "metadata": {},
   "source": [
    "Validation perplexity has several drawbacks.\n",
    "1. It doesn't directly measure the quality of generation.\n",
    "2. Models trained on different tokenizers can't be compared by validation perplexity, because it's averaged over length. Therefore, for a tokenizer with a small vocabulary, the perplexity will always be lower, since the loss of an individual token is lower."
   ]
  },
  {
   "cell_type": "markdown",
   "metadata": {},
   "source": [
    "# Generative perplexity\n",
    "\n",
    "Here, the evaluation pipeline is slightly different:\n",
    "The texts are generated using our model, and likelihood is estimated using some large pre-trained model (for example, GPT2, which you'll learn about later)."
   ]
  },
  {
   "cell_type": "code",
   "execution_count": 34,
   "metadata": {},
   "outputs": [
    {
     "name": "stderr",
     "output_type": "stream",
     "text": [
      "Using the latest cached version of the module from /home/echimbulatov/.cache/huggingface/modules/evaluate_modules/metrics/evaluate-metric--perplexity/2d13ebb2e7fff46bcdb4f6893c83bc434f97a9ef7b23f0ed3e16892256232326 (last modified on Wed Jul 30 12:26:17 2025) since it couldn't be found locally at evaluate-metric--perplexity, or remotely on the Hugging Face Hub.\n"
     ]
    }
   ],
   "source": [
    "import evaluate\n",
    "\n",
    "perplexity = evaluate.load(\"perplexity\", module_type=\"metric\", model_id=\"gpt2\")"
   ]
  },
  {
   "cell_type": "code",
   "execution_count": 41,
   "metadata": {},
   "outputs": [],
   "source": [
    "def compute_ppl(predictions):\n",
    "    torch.cuda.empty_cache()\n",
    "    ppl_list = perplexity.compute(\n",
    "        predictions=predictions, \n",
    "        model_id=\"gpt2\", \n",
    "        device=\"cuda\", \n",
    "        add_start_token=True,\n",
    "    )[\"perplexities\"]\n",
    "    ppl = np.mean(ppl_list)\n",
    "    return ppl"
   ]
  },
  {
   "cell_type": "code",
   "execution_count": 46,
   "metadata": {},
   "outputs": [
    {
     "name": "stderr",
     "output_type": "stream",
     "text": [
      "100%|██████████| 313/313 [00:06<00:00, 46.54it/s]\n",
      "100%|██████████| 313/313 [00:06<00:00, 46.78it/s]\n",
      "100%|██████████| 313/313 [00:04<00:00, 70.35it/s]\n"
     ]
    }
   ],
   "source": [
    "bpe_model_ppl = compute_ppl(bpe_tokenizer.decode(bpe_outputs))\n",
    "word_model_ppl = compute_ppl(word_tokenizer.decode(word_outputs))\n",
    "char_model_ppl = compute_ppl(char_tokenizer.decode(char_outputs))"
   ]
  },
  {
   "cell_type": "code",
   "execution_count": 47,
   "metadata": {},
   "outputs": [
    {
     "name": "stdout",
     "output_type": "stream",
     "text": [
      "BPE RNN generative PPL 1378.8216522155763\n",
      "WordPiece RNN generative PPL 784.8809538238526\n",
      "Character RNN generative PPL 3566.7746478271483\n"
     ]
    }
   ],
   "source": [
    "print(\"BPE RNN generative PPL\", bpe_model_ppl)\n",
    "print(\"WordPiece RNN generative PPL\", word_model_ppl)\n",
    "print(\"Character RNN generative PPL\", char_model_ppl)"
   ]
  },
  {
   "cell_type": "markdown",
   "metadata": {},
   "source": [
    "Generative perplexity is quite good at distinguishing bad texts from good ones. However, ranking high-quality texts is not as clear.\n",
    "\n",
    "Furthermore, since a different pre-trained model is used as the ground truth assessment, it can break down:"
   ]
  },
  {
   "cell_type": "code",
   "execution_count": 48,
   "metadata": {},
   "outputs": [
    {
     "name": "stderr",
     "output_type": "stream",
     "text": [
      "100%|██████████| 1/1 [00:00<00:00, 81.17it/s]\n"
     ]
    },
    {
     "data": {
      "text/plain": [
       "10.171130180358887"
      ]
     },
     "execution_count": 48,
     "metadata": {},
     "output_type": "execute_result"
    }
   ],
   "source": [
    "compute_ppl([\"#####.....###...                ......          ####..\"])"
   ]
  },
  {
   "cell_type": "markdown",
   "metadata": {},
   "source": [
    "## Diversity\n",
    "\n",
    "Another simple but important metric is diversity. It can be implemented in various ways, but typically it's the ratio of unique n-grams to all n-grams in the corpus. This metric serves more as an indicator of mode collapse—if it's too low, something's wrong."
   ]
  },
  {
   "cell_type": "code",
   "execution_count": 56,
   "metadata": {},
   "outputs": [],
   "source": [
    "import spacy\n",
    "from nltk.util import ngrams\n",
    "\n",
    "def compute_diversity(all_texts_list):\n",
    "    ngram_range = [2, 3, 4]\n",
    "\n",
    "    tokenizer = spacy.load(\"en_core_web_sm\").tokenizer\n",
    "    token_list = []\n",
    "    for sentence in all_texts_list:\n",
    "        token_list.append([str(token) for token in tokenizer(sentence)])\n",
    "    ngram_sets = {}\n",
    "    ngram_counts = defaultdict(int)\n",
    "\n",
    "    metrics = {}\n",
    "    for n in ngram_range:\n",
    "        ngram_sets[n] = set()\n",
    "        for tokens in token_list:\n",
    "            ngram_sets[n].update(ngrams(tokens, n))\n",
    "            ngram_counts[n] += len(list(ngrams(tokens, n)))\n",
    "        metrics[f'{n}gram_repitition'] = (1 - len(ngram_sets[n])/ngram_counts[n])\n",
    "    diversity = 1\n",
    "    for val in metrics.values():\n",
    "        diversity *= (1 - val)\n",
    "    metrics['diversity'] = diversity\n",
    "    return metrics"
   ]
  },
  {
   "cell_type": "code",
   "execution_count": null,
   "metadata": {},
   "outputs": [],
   "source": [
    "print(compute_diversity(bpe_tokenizer.decode(bpe_outputs)))\n",
    "print(compute_diversity(char_tokenizer.decode(char_outputs)))\n",
    "print(compute_diversity(word_tokenizer.decode(word_outputs)))"
   ]
  },
  {
   "cell_type": "markdown",
   "metadata": {},
   "source": [
    "## MAUVE\n",
    "\n",
    "This is perhaps the most representative metric, and the one we use most frequently in practice. It's calculated rather cleverly: each text in the generated corpus and the reference corpus is passed through a pre-trained encoder (usually the averaged last hidden layer of GPT2). The texts are then clustered using k-means. Within each cluster, a distance is calculated between the generated and reference texts (the original paper used KL divergence). This way, we try to estimate the similarity of the text distributions.\n",
    "\n",
    "In our experience, this is one of the best metrics, which correlates very well with text quality. It's sensitive to length and \"junk\" tokens. The only drawbacks are noise—the batch size needs to be quite large—and the inability to apply to large models."
   ]
  },
  {
   "cell_type": "code",
   "execution_count": 54,
   "metadata": {},
   "outputs": [],
   "source": [
    "def compute_mauve(predictions, references, model_id='gpt2'):\n",
    "    mauve = evaluate.load(\"mauve\")\n",
    "    assert len(predictions) == len(references)\n",
    "\n",
    "    if len(predictions) == 0:\n",
    "        return 0\n",
    "\n",
    "    results = mauve.compute(\n",
    "        predictions=predictions, references=references,\n",
    "        featurize_model_name=model_id, device_id=0, verbose=False\n",
    "    )\n",
    "\n",
    "    return results.mauve"
   ]
  },
  {
   "cell_type": "code",
   "execution_count": 55,
   "metadata": {},
   "outputs": [
    {
     "name": "stderr",
     "output_type": "stream",
     "text": [
      "Using the latest cached version of the module from /home/echimbulatov/.cache/huggingface/modules/evaluate_modules/metrics/evaluate-metric--mauve/653f4690bcc6e9e16df42f9f85bd0f1b59cca1ae2864058dceedc595f26f6705 (last modified on Tue Jul 29 18:45:49 2025) since it couldn't be found locally at evaluate-metric--mauve, or remotely on the Hugging Face Hub.\n",
      "Featurizing p: 100%|██████████| 5000/5000 [00:35<00:00, 141.15it/s]\n",
      "Featurizing q: 100%|██████████| 5000/5000 [00:35<00:00, 141.37it/s]\n",
      "WARNING clustering 10000 points to 500 centroids: please provide at least 19500 training points\n"
     ]
    },
    {
     "name": "stdout",
     "output_type": "stream",
     "text": [
      "0.004329329138350581\n"
     ]
    },
    {
     "name": "stderr",
     "output_type": "stream",
     "text": [
      "Using the latest cached version of the module from /home/echimbulatov/.cache/huggingface/modules/evaluate_modules/metrics/evaluate-metric--mauve/653f4690bcc6e9e16df42f9f85bd0f1b59cca1ae2864058dceedc595f26f6705 (last modified on Tue Jul 29 18:45:49 2025) since it couldn't be found locally at evaluate-metric--mauve, or remotely on the Hugging Face Hub.\n",
      "Featurizing p: 100%|██████████| 5000/5000 [00:35<00:00, 140.34it/s]\n",
      "Featurizing q: 100%|██████████| 5000/5000 [00:34<00:00, 143.33it/s]\n",
      "WARNING clustering 10000 points to 500 centroids: please provide at least 19500 training points\n"
     ]
    },
    {
     "name": "stdout",
     "output_type": "stream",
     "text": [
      "0.004430649611516761\n"
     ]
    },
    {
     "name": "stderr",
     "output_type": "stream",
     "text": [
      "Using the latest cached version of the module from /home/echimbulatov/.cache/huggingface/modules/evaluate_modules/metrics/evaluate-metric--mauve/653f4690bcc6e9e16df42f9f85bd0f1b59cca1ae2864058dceedc595f26f6705 (last modified on Tue Jul 29 18:45:49 2025) since it couldn't be found locally at evaluate-metric--mauve, or remotely on the Hugging Face Hub.\n",
      "Featurizing p: 100%|██████████| 5000/5000 [00:34<00:00, 142.96it/s]\n",
      "Featurizing q: 100%|██████████| 5000/5000 [00:34<00:00, 143.16it/s]\n",
      "WARNING clustering 10000 points to 500 centroids: please provide at least 19500 training points\n"
     ]
    },
    {
     "name": "stdout",
     "output_type": "stream",
     "text": [
      "0.004282822136388958\n"
     ]
    }
   ],
   "source": [
    "print(compute_mauve(bpe_tokenizer.decode(bpe_outputs), test_texts[:5000]))\n",
    "print(compute_mauve(char_tokenizer.decode(char_outputs), test_texts[:5000]))\n",
    "print(compute_mauve(word_tokenizer.decode(word_outputs), test_texts[:5000]))"
   ]
  }
 ],
 "metadata": {
  "kernelspec": {
   "display_name": "Python 3 (ipykernel)",
   "language": "python",
   "name": "python3"
  },
  "language_info": {
   "codemirror_mode": {
    "name": "ipython",
    "version": 3
   },
   "file_extension": ".py",
   "mimetype": "text/x-python",
   "name": "python",
   "nbconvert_exporter": "python",
   "pygments_lexer": "ipython3",
   "version": "3.12.6"
  },
  "widgets": {
   "application/vnd.jupyter.widget-state+json": {
    "state": {
     "0533a00db0b84768891cadc5ce5caac0": {
      "model_module": "@jupyter-widgets/controls",
      "model_module_version": "1.5.0",
      "model_name": "DescriptionStyleModel",
      "state": {
       "description_width": ""
      }
     },
     "2db4457ae9404e52b9104f415ea5f79d": {
      "model_module": "@jupyter-widgets/base",
      "model_module_version": "1.2.0",
      "model_name": "LayoutModel",
      "state": {}
     },
     "426e462e3bc94a2683767750433bf600": {
      "model_module": "@jupyter-widgets/base",
      "model_module_version": "1.2.0",
      "model_name": "LayoutModel",
      "state": {}
     },
     "70b2243916fb4e578b2cacb677d898e5": {
      "model_module": "@jupyter-widgets/controls",
      "model_module_version": "1.5.0",
      "model_name": "FloatProgressModel",
      "state": {
       "bar_style": "danger",
       "layout": "IPY_MODEL_fe4811f016df4305af47091679dd1f9b",
       "max": 20,
       "style": "IPY_MODEL_a0c004929c7e49faa3459777f7c58226"
      }
     },
     "7d7d592764844685b23851b3a5ff8058": {
      "model_module": "@jupyter-widgets/controls",
      "model_module_version": "1.5.0",
      "model_name": "HTMLModel",
      "state": {
       "layout": "IPY_MODEL_2db4457ae9404e52b9104f415ea5f79d",
       "style": "IPY_MODEL_d369cb34bfe64eb79f73a5c439bb53f3",
       "value": "  0%"
      }
     },
     "9681fcb86f83453e8b8496197e62a888": {
      "model_module": "@jupyter-widgets/base",
      "model_module_version": "1.2.0",
      "model_name": "LayoutModel",
      "state": {}
     },
     "9742a48836ae4d2ca0e73201ee7d646b": {
      "model_module": "@jupyter-widgets/base",
      "model_module_version": "1.2.0",
      "model_name": "LayoutModel",
      "state": {}
     },
     "9a73013e102c4779889bfa863dca4d43": {
      "model_module": "@jupyter-widgets/controls",
      "model_module_version": "1.5.0",
      "model_name": "FloatProgressModel",
      "state": {
       "layout": "IPY_MODEL_426e462e3bc94a2683767750433bf600",
       "max": 20,
       "style": "IPY_MODEL_ebf9a411b07e4af49925ffc0cc606660"
      }
     },
     "a0c004929c7e49faa3459777f7c58226": {
      "model_module": "@jupyter-widgets/controls",
      "model_module_version": "1.5.0",
      "model_name": "ProgressStyleModel",
      "state": {
       "description_width": ""
      }
     },
     "a2707ba3d2b6460dbc61dc24548ba7a6": {
      "model_module": "@jupyter-widgets/controls",
      "model_module_version": "1.5.0",
      "model_name": "HTMLModel",
      "state": {
       "layout": "IPY_MODEL_f22e1bb94d9649b3a97768831444da05",
       "style": "IPY_MODEL_b6011c3a18a44b89bb8f3d9b1a12b489",
       "value": "  0%"
      }
     },
     "ab11f7fd67964c989688ff41cc79e3b4": {
      "model_module": "@jupyter-widgets/controls",
      "model_module_version": "1.5.0",
      "model_name": "HTMLModel",
      "state": {
       "layout": "IPY_MODEL_b2e99f829c1b470b8a2f584c3afaf94e",
       "style": "IPY_MODEL_0533a00db0b84768891cadc5ce5caac0",
       "value": " 0/20 [00:00&lt;?, ?it/s]"
      }
     },
     "ac9225ed8f9449f093a14b216d7128e2": {
      "model_module": "@jupyter-widgets/controls",
      "model_module_version": "1.5.0",
      "model_name": "DescriptionStyleModel",
      "state": {
       "description_width": ""
      }
     },
     "b2e99f829c1b470b8a2f584c3afaf94e": {
      "model_module": "@jupyter-widgets/base",
      "model_module_version": "1.2.0",
      "model_name": "LayoutModel",
      "state": {}
     },
     "b5456caa1de8480eab63f118fda7fd6b": {
      "model_module": "@jupyter-widgets/controls",
      "model_module_version": "1.5.0",
      "model_name": "HBoxModel",
      "state": {
       "children": [
        "IPY_MODEL_7d7d592764844685b23851b3a5ff8058",
        "IPY_MODEL_70b2243916fb4e578b2cacb677d898e5",
        "IPY_MODEL_c9ec663ca42d491da4d7add0e8115bfd"
       ],
       "layout": "IPY_MODEL_9742a48836ae4d2ca0e73201ee7d646b"
      }
     },
     "b6011c3a18a44b89bb8f3d9b1a12b489": {
      "model_module": "@jupyter-widgets/controls",
      "model_module_version": "1.5.0",
      "model_name": "DescriptionStyleModel",
      "state": {
       "description_width": ""
      }
     },
     "bc547e9be5e54eb58e159c17ede6f866": {
      "model_module": "@jupyter-widgets/controls",
      "model_module_version": "1.5.0",
      "model_name": "HBoxModel",
      "state": {
       "children": [
        "IPY_MODEL_a2707ba3d2b6460dbc61dc24548ba7a6",
        "IPY_MODEL_9a73013e102c4779889bfa863dca4d43",
        "IPY_MODEL_ab11f7fd67964c989688ff41cc79e3b4"
       ],
       "layout": "IPY_MODEL_9681fcb86f83453e8b8496197e62a888"
      }
     },
     "c9ec663ca42d491da4d7add0e8115bfd": {
      "model_module": "@jupyter-widgets/controls",
      "model_module_version": "1.5.0",
      "model_name": "HTMLModel",
      "state": {
       "layout": "IPY_MODEL_d4c39764b0f4462ba85516b9179a4732",
       "style": "IPY_MODEL_ac9225ed8f9449f093a14b216d7128e2",
       "value": " 0/20 [00:00&lt;?, ?it/s]"
      }
     },
     "d369cb34bfe64eb79f73a5c439bb53f3": {
      "model_module": "@jupyter-widgets/controls",
      "model_module_version": "1.5.0",
      "model_name": "DescriptionStyleModel",
      "state": {
       "description_width": ""
      }
     },
     "d4c39764b0f4462ba85516b9179a4732": {
      "model_module": "@jupyter-widgets/base",
      "model_module_version": "1.2.0",
      "model_name": "LayoutModel",
      "state": {}
     },
     "ebf9a411b07e4af49925ffc0cc606660": {
      "model_module": "@jupyter-widgets/controls",
      "model_module_version": "1.5.0",
      "model_name": "ProgressStyleModel",
      "state": {
       "description_width": ""
      }
     },
     "f22e1bb94d9649b3a97768831444da05": {
      "model_module": "@jupyter-widgets/base",
      "model_module_version": "1.2.0",
      "model_name": "LayoutModel",
      "state": {}
     },
     "fe4811f016df4305af47091679dd1f9b": {
      "model_module": "@jupyter-widgets/base",
      "model_module_version": "1.2.0",
      "model_name": "LayoutModel",
      "state": {}
     }
    },
    "version_major": 2,
    "version_minor": 0
   }
  }
 },
 "nbformat": 4,
 "nbformat_minor": 4
}
