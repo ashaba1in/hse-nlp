{
 "cells": [
  {
   "cell_type": "markdown",
   "metadata": {
    "colab_type": "text",
    "id": "HmsFABwClrsS"
   },
   "source": [
    "### Семинар 4. Seq2seq\n",
    "\n",
    "В этом семинаре мы будем учить рекуррентную модель машинного перевода. Работать будем с описаниями отелей на русском и английском языке.\n",
    "\n",
    "![img](https://esciencegroup.files.wordpress.com/2016/03/seq2seq.jpg)"
   ]
  },
  {
   "cell_type": "markdown",
   "metadata": {},
   "source": [
    "Для скачивания данных запустите код ниже."
   ]
  },
  {
   "cell_type": "code",
   "execution_count": 1,
   "metadata": {},
   "outputs": [],
   "source": [
    "# ! wget https://www.dropbox.com/scl/fi/inwn1t0gnfouagavt289d/en_texts.txt?rlkey=0obl4plaeqhtd5j7msnfb3vwz&dl=1 -O en_texts.txt\n",
    "# ! wget https://www.dropbox.com/scl/fi/7ifao8ei5d2fkbnvidwqs/ru_texts.txt?rlkey=v8r5jf7ep7rethmwf71n6qoke&dl=1 -O ru_texts.txt"
   ]
  },
  {
   "cell_type": "markdown",
   "metadata": {},
   "source": [
    "### Токенизация\n",
    "\n",
    "Токенизировать наш текст будем с помощью BPE. Все необходимые функции для обучения своего токенизатора можно импортировать из библиотеки `huggingface`. Заметьте, что нам понадобится два токенизатора: для английского и русского языков. Конечно, можно обучить один для всего, но, так как английский текст никогда не пересекается с русским, в этом нет смысла (мы только ухудшим качество токенов)."
   ]
  },
  {
   "cell_type": "code",
   "execution_count": 2,
   "metadata": {},
   "outputs": [],
   "source": [
    "from tokenizers import Tokenizer, processors\n",
    "from tokenizers.pre_tokenizers import Whitespace\n",
    "from tokenizers.models import BPE\n",
    "from tokenizers.trainers import BpeTrainer\n",
    "from transformers import PreTrainedTokenizerFast, PreTrainedTokenizer, BertTokenizer, BertTokenizerFast, GPT2TokenizerFast"
   ]
  },
  {
   "cell_type": "code",
   "execution_count": 3,
   "metadata": {},
   "outputs": [],
   "source": [
    "def train_tokenizer(files):\n",
    "    unk_token = '[UNK]'  # token for unknown words\n",
    "    spl_tokens = ['[UNK]', '[SEP]', '[CLS]', '[PAD]']  # special tokens\n",
    "\n",
    "    tokenizer = Tokenizer(BPE(unk_token=unk_token))\n",
    "    trainer = BpeTrainer(special_tokens=spl_tokens, vocab_size=30000)\n",
    "\n",
    "    tokenizer.pre_tokenizer = Whitespace()\n",
    "    tokenizer.train(files, trainer)\n",
    "\n",
    "    bos_token_id = tokenizer.token_to_id('[CLS]')\n",
    "    eos_token_id = tokenizer.token_to_id('[SEP]')\n",
    "    unk_token_id = tokenizer.token_to_id('[UNK]')\n",
    "    pad_token_id = tokenizer.token_to_id('[PAD]')\n",
    "    \n",
    "    tokenizer.post_processor = processors.TemplateProcessing(\n",
    "        single=f\"[CLS]:0 $A:0 [SEP]:0\",\n",
    "        pair=f\"[CLS]:0 $A:0 [SEP]:0 $B:1 [SEP]:1\",\n",
    "        special_tokens=[(\"[CLS]\", bos_token_id), (\"[SEP]\", eos_token_id)],\n",
    "    )\n",
    "\n",
    "    tokenizer = PreTrainedTokenizerFast(\n",
    "        tokenizer_object=tokenizer,\n",
    "        bos_token='[CLS]',\n",
    "        eos_token='[SEP]',\n",
    "        unk_token='[UNK]',\n",
    "        pad_token='[PAD]'\n",
    "    )\n",
    "    return tokenizer"
   ]
  },
  {
   "cell_type": "code",
   "execution_count": 4,
   "metadata": {},
   "outputs": [
    {
     "name": "stdout",
     "output_type": "stream",
     "text": [
      "\n",
      "\n",
      "\n",
      "\n",
      "\n",
      "\n"
     ]
    }
   ],
   "source": [
    "en_tokenizer = train_tokenizer(['en_texts.txt'])\n",
    "ru_tokenizer = train_tokenizer(['ru_texts.txt'])"
   ]
  },
  {
   "cell_type": "markdown",
   "metadata": {},
   "source": [
    "### Датасет\n",
    "\n",
    "Тут ничего сильно интересного. Читаем наши тексты, делим на тренировочную и тестовую выборки, а затем кладем все в `DataLoader` для дальнейшего удобства."
   ]
  },
  {
   "cell_type": "code",
   "execution_count": 5,
   "metadata": {},
   "outputs": [],
   "source": [
    "with open('en_texts.txt') as f:\n",
    "    en_texts = f.read().strip().split('\\n')\n",
    "\n",
    "with open('ru_texts.txt') as f:\n",
    "    ru_texts = f.read().strip().split('\\n')\n",
    "\n",
    "texts = list(zip(en_texts, ru_texts))"
   ]
  },
  {
   "cell_type": "code",
   "execution_count": 6,
   "metadata": {},
   "outputs": [],
   "source": [
    "from sklearn.model_selection import train_test_split\n",
    "\n",
    "train_texts, test_texts = train_test_split(texts, test_size=0.05)"
   ]
  },
  {
   "cell_type": "code",
   "execution_count": 7,
   "metadata": {},
   "outputs": [],
   "source": [
    "from torch.utils.data import DataLoader\n",
    "\n",
    "batch_size = 128\n",
    "\n",
    "train_loader = DataLoader(train_texts, batch_size=batch_size, shuffle=True, pin_memory=True)\n",
    "test_loader = DataLoader(test_texts, batch_size=batch_size, shuffle=False, pin_memory=True)"
   ]
  },
  {
   "cell_type": "code",
   "execution_count": 8,
   "metadata": {},
   "outputs": [
    {
     "data": {
      "text/plain": [
       "['Отель Cordelia расположен в Тбилиси, в 3 минутах ходьбы от Свято-Троицкого собора.',\n",
       " 'В числе удобств лоджа Tupirmarka круглосуточная стойка регистрации и снэк-бар. Гости могут воспользоваться услугой доставки еды и напитков в номер.',\n",
       " 'Апартаменты Naigao Xiaowo расположены в городе Шанхай. К услугам гостей бесплатный Wi-Fi во всех зонах.',\n",
       " 'В вашем распоряжении также телевизор и собственная ванная комната с душем.',\n",
       " 'Номер оснащен кондиционером и спутниковым телевидением.']"
      ]
     },
     "execution_count": 8,
     "metadata": {},
     "output_type": "execute_result"
    }
   ],
   "source": [
    "ru_texts[:5]"
   ]
  },
  {
   "cell_type": "code",
   "execution_count": 13,
   "metadata": {},
   "outputs": [],
   "source": [
    "tokenized = ru_tokenizer(ru_texts[:5], padding=True, return_tensors='pt')"
   ]
  },
  {
   "cell_type": "code",
   "execution_count": 14,
   "metadata": {},
   "outputs": [
    {
     "name": "stdout",
     "output_type": "stream",
     "text": [
      "tensor([[    2,   462,  2746,  2309,   888,   357,   204,  3674,    15,   204,\n",
      "            22,   413,   551,   256, 21425,    16, 15565,   632,  1941,    17,\n",
      "             1,     3,     3,     3,     3,     3,     3,     3,     3],\n",
      "        [    2,   175,   528,   533,  4924, 24480,  1230,  6935,  2537,  1178,\n",
      "          1139,   688,   210,  2793,    16,   527,    17,   519,   418,   796,\n",
      "          4930,  3201,  1609,   210,  1398,   204,  1168,    17,     1],\n",
      "        [    2,   573,  4565,  1487,  8562, 16473, 17518,   706,   204,   637,\n",
      "         18295,    17,   183,   380,   329,   410,   378,    16,   379,   289,\n",
      "           749,  1698,    17,     1,     3,     3,     3,     3,     3],\n",
      "        [    2,   175,  1171,   525,   459,   539,   210,   630,   475,   506,\n",
      "           219,   613,    17,     1,     3,     3,     3,     3,     3,     3,\n",
      "             3,     3,     3,     3,     3,     3,     3,     3,     3],\n",
      "        [    2,  7590,  1511,   624,   210,  1890,  1342,    17,     1,     3,\n",
      "             3,     3,     3,     3,     3,     3,     3,     3,     3,     3,\n",
      "             3,     3,     3,     3,     3,     3,     3,     3,     3]])\n"
     ]
    }
   ],
   "source": [
    "print(tokenized['input_ids'])"
   ]
  },
  {
   "cell_type": "code",
   "execution_count": 15,
   "metadata": {},
   "outputs": [
    {
     "name": "stdout",
     "output_type": "stream",
     "text": [
      "tensor([[1, 1, 1, 1, 1, 1, 1, 1, 1, 1, 1, 1, 1, 1, 1, 1, 1, 1, 1, 1, 1, 0, 0, 0,\n",
      "         0, 0, 0, 0, 0],\n",
      "        [1, 1, 1, 1, 1, 1, 1, 1, 1, 1, 1, 1, 1, 1, 1, 1, 1, 1, 1, 1, 1, 1, 1, 1,\n",
      "         1, 1, 1, 1, 1],\n",
      "        [1, 1, 1, 1, 1, 1, 1, 1, 1, 1, 1, 1, 1, 1, 1, 1, 1, 1, 1, 1, 1, 1, 1, 1,\n",
      "         0, 0, 0, 0, 0],\n",
      "        [1, 1, 1, 1, 1, 1, 1, 1, 1, 1, 1, 1, 1, 1, 0, 0, 0, 0, 0, 0, 0, 0, 0, 0,\n",
      "         0, 0, 0, 0, 0],\n",
      "        [1, 1, 1, 1, 1, 1, 1, 1, 1, 0, 0, 0, 0, 0, 0, 0, 0, 0, 0, 0, 0, 0, 0, 0,\n",
      "         0, 0, 0, 0, 0]])\n"
     ]
    }
   ],
   "source": [
    "print(tokenized['attention_mask'])"
   ]
  },
  {
   "cell_type": "markdown",
   "metadata": {
    "colab_type": "text",
    "id": "BHWgx34flrsn"
   },
   "source": [
    "### Encoder-decoder model\n",
    "\n",
    "Ниже написан код для модели, которую нам предстоит обучать. В качестве и энкодера, и декодера мы берем базовую однослойную версию GRU. При желании вы можете усложнить модель (учеличить размер, добавить механизм внимания и тд) и посмотреть, улучшает ли это результат."
   ]
  },
  {
   "cell_type": "code",
   "execution_count": 21,
   "metadata": {
    "colab": {},
    "colab_type": "code",
    "id": "pd_rDRm9lrso"
   },
   "outputs": [],
   "source": [
    "import numpy as np\n",
    "import torch\n",
    "import torch.nn as nn\n",
    "import torch.nn.functional as F\n",
    "\n",
    "device = torch.device('cuda' if torch.cuda.is_available() else 'cpu')"
   ]
  },
  {
   "cell_type": "code",
   "execution_count": 22,
   "metadata": {
    "colab": {},
    "colab_type": "code",
    "id": "wgfN5-F7lrst"
   },
   "outputs": [],
   "source": [
    "class Encoder(nn.Module):\n",
    "    def __init__(self, vocab_size, hidden_size=128):\n",
    "        super().__init__()\n",
    "        self.hidden_size = hidden_size\n",
    "\n",
    "        self.embedding = nn.Embedding(vocab_size, hidden_size)\n",
    "\n",
    "        self.gru = nn.GRU(input_size=hidden_size, hidden_size=hidden_size, batch_first=True)\n",
    "        \n",
    "        self.fc = nn.Linear(hidden_size, hidden_size)\n",
    "    \n",
    "    def forward(self, x, attention_mask):\n",
    "        embed = self.embedding(x)\n",
    "\n",
    "        output, h = self.gru(embed)\n",
    "\n",
    "        # take output of the last token\n",
    "        lens = attention_mask.sum(1)  # [bs]\n",
    "        idx = (lens - 1).unsqueeze(1).expand(output.size(0), output.size(2)).unsqueeze(1)\n",
    "        # [bs, 1, d]\n",
    "\n",
    "        # [bs, seq_len, d]\n",
    "        output = output.gather(1, idx.to(device)).squeeze()\n",
    "\n",
    "        # [1, bs, d]\n",
    "        return self.fc(output).unsqueeze(0)\n",
    "\n",
    "\n",
    "class Decoder(nn.Module):\n",
    "    def __init__(self, vocab_size, hidden_size=128):\n",
    "        super().__init__()\n",
    "        self.hidden_size = hidden_size\n",
    "        self.embedding = nn.Embedding(vocab_size, hidden_size)\n",
    "\n",
    "        self.gru = nn.GRU(input_size=hidden_size, hidden_size=hidden_size, batch_first=True)\n",
    "\n",
    "        self.fc = nn.Linear(hidden_size, vocab_size)\n",
    "\n",
    "    def forward(self, x, init_state):\n",
    "        embed = self.embedding(x)\n",
    "\n",
    "        output, h = self.gru(embed, init_state)\n",
    "\n",
    "        output = self.fc(output)\n",
    "\n",
    "        return output, h\n",
    "\n",
    "class Model(nn.Module):\n",
    "    def __init__(self, in_vocab_size, out_vocab_size, hidden_size=128):\n",
    "        super().__init__()\n",
    "        self.encoder = Encoder(in_vocab_size, hidden_size)\n",
    "        self.decoder = Decoder(out_vocab_size, hidden_size)\n",
    "\n",
    "    def forward(self, input_ids, output_ids, attention_mask):\n",
    "        encoded = self.encoder(input_ids, attention_mask)\n",
    "        logits, _ = self.decoder(output_ids, encoded)\n",
    "        return logits\n",
    "\n",
    "\n",
    "def clear_text(texts):\n",
    "    clear_texts = []\n",
    "    for text in texts:\n",
    "        text = text.replace('[PAD]', '')\n",
    "        cls_pos = text.find('[CLS]')\n",
    "        if cls_pos > -1:\n",
    "            text = text[cls_pos + len('[CLS]'):]\n",
    "\n",
    "        sep_pos = text.find('[SEP]')\n",
    "        if sep_pos > -1:\n",
    "            text = text[:sep_pos]\n",
    "\n",
    "        clear_texts.append(text.strip())\n",
    "\n",
    "    return clear_texts\n",
    "\n",
    "\n",
    "@torch.no_grad()\n",
    "def translate(model, texts):\n",
    "    model.eval()\n",
    "\n",
    "    en_tokenized = en_tokenizer(texts, padding=True, return_tensors='pt')\n",
    "    input_ids = en_tokenized['input_ids'].to(device)\n",
    "    attention_mask = en_tokenized['attention_mask'].to(device)\n",
    "    state = model.encoder(input_ids, attention_mask)\n",
    "\n",
    "    cur_tokens = torch.full((len(texts), 1), ru_tokenizer.bos_token_id, device=device)\n",
    "    output_ids = cur_tokens.clone()\n",
    "\n",
    "    ended_texts = torch.zeros(len(texts))\n",
    "    for i in range(256):\n",
    "        logits, state = model.decoder(cur_tokens, state)\n",
    "\n",
    "        next_tokens = logits.argmax(-1)\n",
    "\n",
    "        cur_tokens = next_tokens\n",
    "        output_ids = torch.cat((output_ids, cur_tokens), dim=1)\n",
    "        \n",
    "        ended_texts += (next_tokens.cpu().squeeze(1) == ru_tokenizer.eos_token_id)\n",
    "        if torch.all(ended_texts > 0):\n",
    "            break\n",
    "\n",
    "    return ru_tokenizer.batch_decode(output_ids)"
   ]
  },
  {
   "cell_type": "markdown",
   "metadata": {
    "colab_type": "text",
    "id": "_wuv1-aVlrs0"
   },
   "source": [
    "### Функция ошибки\n",
    "\n",
    "Тут все почти так же, как для языковых моделей, за исключение обуславливания на входную последовательность\n",
    "$$ L = -{\\frac1{|D|}} \\sum_{X, Y \\in D} \\sum_{y_t \\in Y} \\log p(y_t \\mid y_1, \\dots, y_{t-1}, X, \\theta) $$"
   ]
  },
  {
   "cell_type": "markdown",
   "metadata": {
    "colab_type": "text",
    "id": "HpbaBpW7lrs-"
   },
   "source": [
    "### Оценка качества: BLEU\n",
    "\n",
    "Страндартно качество модели для машинного перевода оценивается с помощью [BLEU](https://en.wikipedia.org/wiki/BLEU). Она считает долю 1,2,3,4-грамм  переведенных текстов, которые содержатся в целевых, и находит их геометрическое среднее. Помимо этого добавляется штраф, если переведенный текст короче целевого.\n",
    "\n",
    "<!-- While BLEU [has many drawbacks](http://www.cs.jhu.edu/~ccb/publications/re-evaluating-the-role-of-bleu-in-mt-research.pdf), it still remains the most commonly used metric and one of the simplest to compute. -->"
   ]
  },
  {
   "cell_type": "code",
   "execution_count": 24,
   "metadata": {
    "colab": {},
    "colab_type": "code",
    "id": "Gb1-PhKIlrs-"
   },
   "outputs": [],
   "source": [
    "from nltk.translate.bleu_score import corpus_bleu\n",
    "\n",
    "@torch.no_grad()\n",
    "def compute_bleu(model, translated_text, target_text):\n",
    "    \"\"\"\n",
    "    Estimates corpora-level BLEU score of model's translations given inp and reference out\n",
    "    \"\"\"\n",
    "\n",
    "    return corpus_bleu(\n",
    "        [[ref.split()] for ref in target_text],\n",
    "        [trans.split() for trans in translated_text],\n",
    "        smoothing_function=lambda precisions, **kw: [p + 1.0 / p.denominator for p in precisions]\n",
    "    ) * 100"
   ]
  },
  {
   "cell_type": "markdown",
   "metadata": {
    "colab_type": "text",
    "id": "nQDhGwg4lrtC"
   },
   "source": [
    "### Обучение"
   ]
  },
  {
   "cell_type": "code",
   "execution_count": 25,
   "metadata": {
    "colab": {},
    "colab_type": "code",
    "id": "yfwIaixHlrtI"
   },
   "outputs": [],
   "source": [
    "from IPython.display import clear_output\n",
    "import matplotlib.pyplot as plt\n",
    "from tqdm.auto import tqdm, trange\n",
    "\n",
    "model = Model(len(en_tokenizer), len(ru_tokenizer), hidden_size=256).to(device)\n",
    "optimizer = torch.optim.Adam(model.parameters(), lr=1e-3)"
   ]
  },
  {
   "cell_type": "code",
   "execution_count": 30,
   "metadata": {},
   "outputs": [],
   "source": [
    "accuracies = []\n",
    "metrics = {'train_acc': [], 'train_loss': [], 'test_loss': [], 'test_bleu': []}\n",
    "\n",
    "def train(model, dataloader, optimizer):\n",
    "    model.train()\n",
    "    \n",
    "    criterion = nn.CrossEntropyLoss(ignore_index=ru_tokenizer.pad_token_id)\n",
    "\n",
    "    for texts in tqdm(dataloader):\n",
    "        en_texts, ru_texts = texts\n",
    "\n",
    "        en_tokenized = en_tokenizer(en_texts, padding=True, return_tensors='pt')\n",
    "        input_ids = en_tokenized['input_ids'].to(device)\n",
    "        attention_mask = en_tokenized['attention_mask'].to(device)\n",
    "\n",
    "        ru_tokenized = ru_tokenizer(ru_texts, padding=True, return_tensors='pt')\n",
    "        output_ids = ru_tokenized['input_ids'].to(device)\n",
    "\n",
    "        logits = model(input_ids, output_ids, attention_mask)\n",
    "\n",
    "        shift_logits = logits[:, :-1].contiguous()\n",
    "        shift_outputs = output_ids[:, 1:].contiguous()\n",
    "\n",
    "        loss = criterion(shift_logits.view(-1, shift_logits.size(-1)), shift_outputs.view(-1))\n",
    "\n",
    "        accuracy = (shift_logits.argmax(-1).view(-1) == shift_outputs.view(-1)).float()\n",
    "        accuracy = accuracy[shift_outputs.view(-1) != ru_tokenizer.pad_token_id].mean()\n",
    "\n",
    "        metrics['train_acc'].append(accuracy.item())\n",
    "        metrics['train_loss'].append(loss.item())\n",
    "\n",
    "        optimizer.zero_grad()\n",
    "        loss.backward()\n",
    "        optimizer.step()\n",
    "        \n",
    "        clear_output(wait=True)\n",
    "        plt.figure(figsize=(15, 4))\n",
    "        for i, (k, v) in enumerate(metrics.items()):\n",
    "            plt.subplot(1, len(metrics), i + 1)\n",
    "            plt.plot(v)\n",
    "            plt.grid()\n",
    "            plt.title(k, fontsize=16)\n",
    "\n",
    "        plt.show()\n",
    "        \n",
    "def evaluate(model, dataloader):\n",
    "    model.eval()\n",
    "    criterion = nn.CrossEntropyLoss(ignore_index=ru_tokenizer.pad_token_id)\n",
    "    \n",
    "    translated_text = []\n",
    "    target_text = []\n",
    "    losses = []\n",
    "    for texts in tqdm(dataloader):\n",
    "        en_texts, ru_texts = texts\n",
    "        \n",
    "        en_tokenized = en_tokenizer(en_texts, padding=True, return_tensors='pt')\n",
    "        input_ids = en_tokenized['input_ids'].to(device)\n",
    "        attention_mask = en_tokenized['attention_mask'].to(device)\n",
    "        \n",
    "        ru_tokenized = ru_tokenizer(ru_texts, padding=True, return_tensors='pt')\n",
    "        output_ids = ru_tokenized['input_ids'].to(device)\n",
    "\n",
    "        logits = model(input_ids, output_ids, attention_mask)\n",
    "\n",
    "        shift_logits = logits[:, :-1].contiguous()\n",
    "        shift_outputs = output_ids[:, 1:].contiguous()\n",
    "        \n",
    "        loss = criterion(shift_logits.view(-1, shift_logits.size(-1)), shift_outputs.view(-1))\n",
    "        losses.append(loss.item())\n",
    "        \n",
    "        translations = clear_text(translate(model, en_texts))\n",
    "    \n",
    "        translated_text.extend(translations)\n",
    "        target_text.extend(ru_texts)\n",
    "\n",
    "    return {\n",
    "        'bleu': compute_bleu(model, translated_text, target_text),\n",
    "        'loss': np.mean(losses)\n",
    "    }"
   ]
  },
  {
   "cell_type": "code",
   "execution_count": 19,
   "metadata": {},
   "outputs": [
    {
     "data": {
      "image/png": "[encoded data removed]",
      "text/plain": [
       "<Figure size 1500x400 with 4 Axes>"
      ]
     },
     "metadata": {},
     "output_type": "display_data"
    },
    {
     "data": {
      "application/vnd.jupyter.widget-view+json": {
       "model_id": "344578c3591d42918e391a88105d2425",
       "version_major": 2,
       "version_minor": 0
      },
      "text/plain": [
       "  0%|          | 0/20 [00:00<?, ?it/s]"
      ]
     },
     "metadata": {},
     "output_type": "display_data"
    }
   ],
   "source": [
    "for e in range(6):\n",
    "    train(model, train_loader, optimizer)\n",
    "\n",
    "    result = evaluate(model, test_loader)\n",
    "    metrics['test_bleu'].append(result['bleu'])\n",
    "    metrics['test_loss'].append(result['loss'])"
   ]
  },
  {
   "cell_type": "code",
   "execution_count": 21,
   "metadata": {},
   "outputs": [],
   "source": [
    "torch.save(model.state_dict(), 'model.pt')"
   ]
  },
  {
   "cell_type": "code",
   "execution_count": 28,
   "metadata": {},
   "outputs": [
    {
     "data": {
      "text/plain": [
       "<All keys matched successfully>"
      ]
     },
     "execution_count": 28,
     "metadata": {},
     "output_type": "execute_result"
    }
   ],
   "source": [
    "model.load_state_dict(torch.load('model.pt', map_location=torch.device('cpu')))"
   ]
  },
  {
   "cell_type": "code",
   "execution_count": 31,
   "metadata": {},
   "outputs": [
    {
     "data": {
      "application/vnd.jupyter.widget-view+json": {
       "model_id": "0784d00f100447c2b684a5f06880efd7",
       "version_major": 2,
       "version_minor": 0
      },
      "text/plain": [
       "  0%|          | 0/20 [00:00<?, ?it/s]"
      ]
     },
     "metadata": {},
     "output_type": "display_data"
    },
    {
     "data": {
      "text/plain": [
       "{'bleu': 13.800212051678166, 'loss': 1.7270925164222717}"
      ]
     },
     "execution_count": 31,
     "metadata": {},
     "output_type": "execute_result"
    }
   ],
   "source": [
    "evaluate(model, test_loader)"
   ]
  },
  {
   "cell_type": "code",
   "execution_count": 33,
   "metadata": {},
   "outputs": [],
   "source": [
    "en_texts, ru_texts = next(iter(test_loader))"
   ]
  },
  {
   "cell_type": "code",
   "execution_count": 34,
   "metadata": {},
   "outputs": [
    {
     "data": {
      "text/plain": [
       "['Поездка от отеля типа « постель и завтрак » до города Лечче занимает 15 минут, а до аэропорта Хусейн Састранегара можно доехать за 20 минут.',\n",
       " 'В апартаментах имеется собственный балкон и полностью оборудованная кухня с посудомоечной машиной.',\n",
       " 'Поездка до международного аэропорта Лиссабона Портела займет 25 минут.',\n",
       " 'В числе удобств терраса с видом на море.',\n",
       " 'Апартаменты располагают гостиной с диваном - кроватью и телевизором с плоским экраном и спутниковыми каналами, а также гостиной с диваном - кроватью.',\n",
       " 'В кафе - баре отеля подают блюда местной и интернациональной кухни.',\n",
       " 'Расстояние от отеля до музея Пасифи музея и парка аттракционов « Всемирный центр » составляет 1, 5 км.',\n",
       " 'Расстояние до станции метро « Площадь Восстания » составляет 2 км.',\n",
       " 'В экскурсионном бюро можно организовать поездки.',\n",
       " 'Апартаменты Ive And rica с кондиционером, бесплатным Wi - Fi и частная парковка на территории расположены в городе Санта - Маргерита - Лигуре.']"
      ]
     },
     "execution_count": 34,
     "metadata": {},
     "output_type": "execute_result"
    }
   ],
   "source": [
    "translations = translate(model, en_texts)\n",
    "clear_text(translations[:10])"
   ]
  },
  {
   "cell_type": "code",
   "execution_count": 38,
   "metadata": {},
   "outputs": [
    {
     "name": "stdout",
     "output_type": "stream",
     "text": [
      "Surfside Vanuatu is 15 minutes’ drive from Port Vila and 20 minutes’ drive from Bauerfield International Airport.\n",
      "Комплекс Surfside Vanuatu находится в 15 минутах езды от города Порт-Вила и в 20 минутах езды от международного аэропорта Бауерфилд.\n",
      "Поездка от отеля типа « постель и завтрак » до города Лечче занимает 15 минут, а до аэропорта Хусейн Састранегара можно доехать за 20 минут.\n",
      "\n",
      "Casa Artgo includes a balcony and patio with a washing machine.\n",
      "К услугам гостей дома для отпуска Casa Artgo балкон, патио и стиральная машина.\n",
      "В апартаментах имеется собственный балкон и полностью оборудованная кухня с посудомоечной машиной.\n",
      "\n",
      "It takes 25 minutes to drive to Irkutsk Airport.\n",
      "До аэропорта Иркутска 25 минут езды на автомобиле.\n",
      "Поездка до международного аэропорта Лиссабона Портела займет 25 минут.\n",
      "\n",
      "A terrace with outdoor fireplace is at guests’ disposal.\n",
      "К услугам гостей терраса с камином на открытом воздухе.\n",
      "В числе удобств терраса с видом на море.\n",
      "\n",
      "Heated apartments feature a living room with a sofa and flat-screen satellite TV. Some have a sofa bed and a fireplace.\n",
      "Во всех отапливаемых апартаментах с гостиной имеется диван и телевизор с плоским экраном со спутниковыми каналами, а в некоторых - диван-кровать и камин.\n",
      "Апартаменты располагают гостиной с диваном - кроватью и телевизором с плоским экраном и спутниковыми каналами, а также гостиной с диваном - кроватью.\n",
      "\n",
      "The 2 on-site restaurants prepare home-cooked meals made with local products and olive oil.\n",
      "Также вы можете посетить 2 ресторана, где блюда готовятся по домашним рецептам с использованием местных продуктов и оливкового масла.\n",
      "В кафе - баре отеля подают блюда местной и интернациональной кухни.\n",
      "\n",
      "The Northwest Museum of Arts and Culture and Spokane Arena are only 1 miles from this boutique hotel.\n",
      "Расстояние этого бутик-отеля до Северо-западного музея культуры и искусств и стадиона Спокан-Арена составляет всего 1,6 км.\n",
      "Расстояние от отеля до музея Пасифи музея и парка аттракционов « Всемирный центр » составляет 1, 5 км.\n",
      "\n",
      "Paraty Bus Station and the Modern Art Museum are both 2 km away.\n",
      "Автобусный вокзал и музей современного искусства Парати расположены в 2 км.\n",
      "Расстояние до станции метро « Площадь Восстания » составляет 2 км.\n",
      "\n",
      "Guests can arrange a trip at the tour desk.\n",
      "В туристическом бюро можно организовать поездки.\n",
      "В экскурсионном бюро можно организовать поездки.\n",
      "\n",
      "The air-conditioned unit is 800 metres from Mae Nam Pier, and guests benefit from free WiFi and private parking available on site.\n",
      "Эта кондиционированная вилла расположена в 800 метрах от пирса Мэнама. К услугам гостей бесплатный Wi-Fi и частная парковка на территории виллы.\n",
      "Апартаменты Ive And rica с кондиционером, бесплатным Wi - Fi и частная парковка на территории расположены в городе Санта - Маргерита - Лигуре.\n",
      "\n"
     ]
    }
   ],
   "source": [
    "for en, ru, tr in zip(en_texts[:10], ru_texts[:10], clear_text(translations[:10])):\n",
    "    print(en)\n",
    "    print(ru)\n",
    "    print(tr)\n",
    "    print()"
   ]
  },
  {
   "cell_type": "code",
   "execution_count": null,
   "metadata": {},
   "outputs": [],
   "source": []
  }
 ],
 "metadata": {
  "accelerator": "GPU",
  "colab": {
   "collapsed_sections": [
    "edk_oVg0lrtW"
   ],
   "name": "practice.ipynb",
   "provenance": []
  },
  "kernelspec": {
   "display_name": "Python [anaconda3]",
   "language": "python",
   "name": "conda-env-anaconda3-py"
  },
  "language_info": {
   "codemirror_mode": {
    "name": "ipython",
    "version": 3
   },
   "file_extension": ".py",
   "mimetype": "text/x-python",
   "name": "python",
   "nbconvert_exporter": "python",
   "pygments_lexer": "ipython3",
   "version": "3.9.13"
  }
 },
 "nbformat": 4,
 "nbformat_minor": 4
}
